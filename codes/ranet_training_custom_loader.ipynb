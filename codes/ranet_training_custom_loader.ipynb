{
 "cells": [
  {
   "cell_type": "code",
   "execution_count": 1,
   "metadata": {},
   "outputs": [],
   "source": [
    "import argparse\n",
    "from math import log10\n",
    "import torch\n",
    "import torch.nn as nn\n",
    "import torch.nn.functional as F\n",
    "import torch.optim as optim\n",
    "from torch.autograd import Variable\n",
    "from torch.utils.data import DataLoader\n",
    "import torch.cuda as cuda\n",
    "\n",
    "import time\n",
    "import numpy as np\n",
    "import os\n",
    "from RANet_lib import *\n",
    "from RANet_lib.RANet_lib import *\n",
    "from RANet_model import RANet as Net\n",
    "import os\n",
    "import os.path as osp\n",
    "from glob import glob\n",
    "\n",
    "import matplotlib.pyplot as plt\n",
    "from torchvision import transforms\n",
    "import PIL.Image as Image"
   ]
  },
  {
   "cell_type": "code",
   "execution_count": 2,
   "metadata": {},
   "outputs": [],
   "source": [
    "from vj_davis_17_loader import Custom_DAVIS2017_dataset\n",
    "from torch.utils.data import DataLoader\n",
    "from vj_loss_functions import *\n",
    "# from vj_RAnet_models import Full_training_RAnet"
   ]
  },
  {
   "cell_type": "code",
   "execution_count": 3,
   "metadata": {},
   "outputs": [
    {
     "data": {
      "text/plain": [
       "1"
      ]
     },
     "execution_count": 3,
     "metadata": {},
     "output_type": "execute_result"
    }
   ],
   "source": [
    "torch.cuda.device_count()"
   ]
  },
  {
   "cell_type": "code",
   "execution_count": 4,
   "metadata": {},
   "outputs": [
    {
     "name": "stdout",
     "output_type": "stream",
     "text": [
      "===> Setting ......\n",
      "../models/exists\n",
      "===> Building model\n",
      "using GPUs ID: [0]\n",
      "Single-object mode\n",
      "Change to multi-object mode\n",
      "=> Loaded checkpoint '../models/RANet_video_multi.pth'\n"
     ]
    }
   ],
   "source": [
    "net_name = 'RANet'\n",
    "parser = argparse.ArgumentParser(description='RANet')\n",
    "parser.add_argument('--deviceID', default=[0], help='device IDs')\n",
    "parser.add_argument('--threads', type=int, default=16, help='number of threads for data loader to use')\n",
    "parser.add_argument('--workfolder', default='../models/')\n",
    "parser.add_argument('--savePName', default=net_name)\n",
    "parser.add_argument('--net_type', default='single_object')\n",
    "parser.add_argument('--fp16', default=True)\n",
    "print('===> Setting ......')\n",
    "# opt = parser.parse_args()\n",
    "class args:\n",
    "    pass\n",
    "opt = args()\n",
    "# opt.deviceID = [0]\n",
    "opt.threads=0\n",
    "opt.workfolder='../models/'\n",
    "opt.savePName = net_name\n",
    "opt.net_type='single_object'\n",
    "opt.fp16=False\n",
    "\n",
    "os.environ[\"CUDA_VISIBLE_DEVICES\"] = \"0\"\n",
    "\n",
    "import torch.multiprocessing\n",
    "torch.multiprocessing.set_sharing_strategy('file_system')\n",
    "\n",
    "try:\n",
    "    os.mkdir(opt.workfolder)\n",
    "    print('build working folder: ' + opt.workfolder)\n",
    "except:\n",
    "    print(opt.workfolder + 'exists')\n",
    "\n",
    "\n",
    "print('===> Building model')\n",
    "############## Choose a model #################\n",
    "# params='RANet_video_multi.pth'\n",
    "# params='RANet_encoder_retrain_epoch1.pth'\n",
    "# params='RANet_multi_basic_train_epoch1.pth'\n",
    "params = 'RANet_video_multi.pth'\n",
    "\n",
    "dataset='17train'\n",
    "save_root='../predictions/RANet_Video_17val'\n",
    "\n",
    "device = torch.device(\"cuda:0\" if torch.cuda.is_available() else \"cpu\")\n",
    "gpus = [i for i in range(torch.cuda.device_count())]\n",
    "# gpus = [0]\n",
    "print('using GPUs ID: {}'.format(gpus))\n",
    "\n",
    "model = Net(pretrained=False, type=opt.net_type)\n",
    "inSize1 = 480\n",
    "inSize2 = 864\n",
    "if dataset in ['16val', '16trainval', '16all']:\n",
    "    model.set_type('single_object')\n",
    "    year = '2016'\n",
    "elif dataset in ['17val', '17test_dev', '17train']:\n",
    "    model.set_type('multi_object')\n",
    "    year = '2017'\n",
    "else:\n",
    "    assert('dataset error')\n",
    "checkpoint_load(opt.workfolder + params, model)\n",
    "\n",
    "# if opt.deviceID==[0]:\n",
    "#     model_cuda = model.cuda()\n",
    "# else:\n",
    "#     model_cuda = nn.DataParallel(model).cuda()\n",
    "# if opt.fp16:\n",
    "#     model_cuda = model_cuda.half()\n",
    "#     model_cuda.fp16 = True\n",
    "\n",
    "root = '../datasets/DAVIS'\n",
    "img_mode = '480p'\n",
    "img_shape = (inSize1,inSize2)"
   ]
  },
  {
   "cell_type": "code",
   "execution_count": 5,
   "metadata": {},
   "outputs": [],
   "source": [
    "from vj_data_parallel_model import Full_training_RAnet"
   ]
  },
  {
   "cell_type": "code",
   "execution_count": 6,
   "metadata": {},
   "outputs": [
    {
     "name": "stdout",
     "output_type": "stream",
     "text": [
      "encoder param: L4.2.weight\n",
      "encoder param: L4.2.bias\n",
      "encoder param: L3.2.weight\n",
      "encoder param: L3.2.bias\n",
      "encoder param: L_g.2.weight\n",
      "encoder param: L_g.2.bias\n",
      "full mode in cuda, memory used so far: 246.2900390625\n"
     ]
    }
   ],
   "source": [
    "full_model = Full_training_RAnet(model, loss_classifier=normal_jaccard_loss_with_logits,\\\n",
    "                lamda1=0.5, lamda2=0.5, cross_lamda=2, lamda=0.1)\n",
    "\n",
    "decoder_parameters = []\n",
    "encoder_parameters = []\n",
    "for name, param in model.named_parameters():\n",
    "    if ('base_model' not in name and 'L3' not in name and 'L4' not in name and 'L_g' not in name):\n",
    "        decoder_parameters.append(param)\n",
    "    else:\n",
    "        if ('base_model' not in name):\n",
    "            print(\"encoder param:\", name)\n",
    "        encoder_parameters.append(param)\n",
    "\n",
    "optimizer_encoder = torch.optim.Adam(encoder_parameters, lr=1e-02)\n",
    "optimizer_decoder = torch.optim.Adam(decoder_parameters, lr=1e-02)\n",
    "# optimizer_wholemodel = torch.optim.Adam(model.parameters(), lr=0)\n",
    "\n",
    "loss_per_epoch = []\n",
    "full_model = nn.DataParallel(full_model, device_ids=gpus).cuda()\n",
    "# full_model.to(device)\n",
    "model.train()\n",
    "print(\"full mode in cuda, memory used so far:\",cuda.memory_allocated(0) /(1024*1024))"
   ]
  },
  {
   "cell_type": "code",
   "execution_count": 5,
   "metadata": {},
   "outputs": [
    {
     "name": "stdout",
     "output_type": "stream",
     "text": [
      "loading files from:  ../datasets/DAVIS/ImageSets/2017/train.txt\n",
      "Image loader ready\n"
     ]
    }
   ],
   "source": [
    "\n",
    "img_dataset = Custom_DAVIS2017_dataset(root=root, img_shape=img_shape, img_mode=img_mode,\\\n",
    "                                       get_prev_mask=False, use_std_template=False)\n",
    "img_loader = DataLoader(dataset=img_dataset, num_workers=0, batch_size=1*len(gpus), shuffle=False, pin_memory=True)\n",
    "print(\"Image loader ready\")"
   ]
  },
  {
   "cell_type": "code",
   "execution_count": 11,
   "metadata": {},
   "outputs": [],
   "source": [
    "for iteration, batch in enumerate(img_loader, 1):\n",
    "    template,template_mask, target,target_mask = batch\n",
    "    if (iteration > 3):\n",
    "        break"
   ]
  },
  {
   "cell_type": "code",
   "execution_count": 26,
   "metadata": {},
   "outputs": [
    {
     "data": {
      "text/plain": [
       "<matplotlib.image.AxesImage at 0x7f9465858a10>"
      ]
     },
     "execution_count": 26,
     "metadata": {},
     "output_type": "execute_result"
    },
    {
     "data": {
      "image/png": "[encoded data removed]",
      "text/plain": [
       "<Figure size 432x288 with 1 Axes>"
      ]
     },
     "metadata": {
      "needs_background": "light"
     },
     "output_type": "display_data"
    }
   ],
   "source": [
    "idx = 0\n",
    "m2 = template_mask[idx: idx + 1]\n",
    "max_obj = m2.max().int().data.cpu().numpy()\n",
    "M2s = model.P2masks(F.relu(m2 - 1), max_obj - 1)\n",
    "plt.imshow((M2s[3][0,0]).numpy())"
   ]
  },
  {
   "cell_type": "code",
   "execution_count": 28,
   "metadata": {},
   "outputs": [
    {
     "data": {
      "text/plain": [
       "array(4, dtype=int32)"
      ]
     },
     "execution_count": 28,
     "metadata": {},
     "output_type": "execute_result"
    }
   ],
   "source": [
    "max_obj"
   ]
  },
  {
   "cell_type": "code",
   "execution_count": 22,
   "metadata": {},
   "outputs": [
    {
     "data": {
      "text/plain": [
       "torch.Size([1, 1, 480, 864])"
      ]
     },
     "execution_count": 22,
     "metadata": {},
     "output_type": "execute_result"
    }
   ],
   "source": [
    "M2s[0].shape"
   ]
  },
  {
   "cell_type": "code",
   "execution_count": 8,
   "metadata": {},
   "outputs": [
    {
     "name": "stdout",
     "output_type": "stream",
     "text": [
      "tensor([[[-0.0088],\n",
      "         [ 0.0506],\n",
      "         [-0.0579]],\n",
      "\n",
      "        [[-0.0658],\n",
      "         [-0.0541],\n",
      "         [-0.0322]],\n",
      "\n",
      "        [[-0.0613],\n",
      "         [-0.0427],\n",
      "         [-0.0469]]], device='cuda:0')\n",
      "tensor([[[-0.0029, -0.0158, -0.0020],\n",
      "         [-0.0018,  0.0101,  0.0033],\n",
      "         [ 0.0026, -0.0086, -0.0037]],\n",
      "\n",
      "        [[ 0.0010, -0.0157, -0.0049],\n",
      "         [-0.0038, -0.0093,  0.0057],\n",
      "         [-0.0096, -0.0059, -0.0070]],\n",
      "\n",
      "        [[-0.0045,  0.0085,  0.0006],\n",
      "         [ 0.0048, -0.0033,  0.0020],\n",
      "         [-0.0066, -0.0101, -0.0047]]], device='cuda:0')\n"
     ]
    }
   ],
   "source": [
    "print(model.Ranking[1].conv1.weight[:3,:3,0].data)\n",
    "print(model.L3[2].weight[:3,:3,0].data)"
   ]
  },
  {
   "cell_type": "code",
   "execution_count": 9,
   "metadata": {},
   "outputs": [
    {
     "name": "stdout",
     "output_type": "stream",
     "text": [
      "loaded prev info, epochs run: 1\n"
     ]
    }
   ],
   "source": [
    "import pickle\n",
    "saved_training_info = './train_info.pkl'\n",
    "try:\n",
    "    with open(saved_training_info, 'rb') as f:\n",
    "        loss_per_epoch = pickle.load(f)\n",
    "    print(\"loaded prev info, epochs run:\", len(loss_per_epoch))\n",
    "    loss_per_epoch = loss_per_epoch.tolist()\n",
    "except:\n",
    "    loss_per_epoch = []"
   ]
  },
  {
   "cell_type": "code",
   "execution_count": 10,
   "metadata": {},
   "outputs": [],
   "source": [
    "\n",
    "# template,template_mask, target,target_mask = batch\n",
    "# template = template.unsqueeze(1)\n",
    "# template_mask = template_mask.unsqueeze(1)\n",
    "# target = target.unsqueeze(1)\n",
    "# target_mask = target_mask.unsqueeze(1)"
   ]
  },
  {
   "cell_type": "code",
   "execution_count": 12,
   "metadata": {},
   "outputs": [
    {
     "name": "stdout",
     "output_type": "stream",
     "text": [
      "max memory usage so far: 4121.4072265625 epoch: 0 iter: 1\n",
      "max memory usage so far: 4769.9794921875 epoch: 0 iter: 2\n",
      "max memory usage so far: 8688.0380859375 epoch: 0 iter: 3\n",
      "Checkpoint saved to ../models/RANet_multi_temp_epoch1.pth\n",
      "epoch: 0 loss: 0.5829015562931696 Time for mini batch: 71.71138437599802 time spend on model running: 34.845475806010654 memory used 1011.8720703125\n"
     ]
    }
   ],
   "source": [
    "max_memory_usage = 0\n",
    "for epoch in range(1):\n",
    "    start_time = time.perf_counter()\n",
    "    loss_per_batch = []\n",
    "    model_train_time = 0\n",
    "    \n",
    "    for iteration, batch in enumerate(img_loader, 1):\n",
    "        template,template_mask, target,target_mask = batch\n",
    "        template = template\n",
    "        template_mask = template_mask\n",
    "        target = target\n",
    "        target_mask = target_mask\n",
    "        \n",
    "        optimizer_encoder.zero_grad()\n",
    "        optimizer_decoder.zero_grad()\n",
    "        \n",
    "        start_time_model = time.perf_counter()\n",
    "        loss = full_model(template, target, template_mask, target_mask, disc_scale=0.5)\n",
    "        total_loss, cls_loss, correlation_loss = loss.mean(dim=0)\n",
    "\n",
    "        total_loss= total_loss.mean()\n",
    "        if np.isnan(total_loss.item()):\n",
    "            print(\"Nan value for loss!, breaking\")\n",
    "            asdsad\n",
    "        \n",
    "        if(cuda.memory_allocated(0) /(1024*1024)>max_memory_usage):\n",
    "            max_memory_usage = cuda.memory_allocated(0) /(1024*1024)\n",
    "            print(\"max memory usage so far:\", max_memory_usage, \"epoch:\", epoch, \"iter:\", iteration)\n",
    "        #### Do backprop #####\n",
    "        total_loss.backward()\n",
    "        optimizer_encoder.step()\n",
    "        optimizer_decoder.step()\n",
    "\n",
    "        if(type(correlation_loss) is type(0.1)):\n",
    "            loss_per_batch.append([total_loss.item(), cls_loss.item(),correlation_loss ])\n",
    "        else:\n",
    "            loss_per_batch.append([total_loss.item(), cls_loss.item(),correlation_loss.item() ])\n",
    "        \n",
    "        model_train_time += time.perf_counter() - start_time_model\n",
    "        \n",
    "        \n",
    "    loss_per_batch = np.array(loss_per_batch)\n",
    "    loss_per_epoch.append(np.mean(loss_per_batch, axis=0))\n",
    "    \n",
    "    end_time = time.perf_counter()\n",
    "    memory = cuda.memory_allocated(0) /(1024*1024)\n",
    "    checkpoint_save(opt.workfolder + 'RANet_multi_temp', 1, model)\n",
    "\n",
    "    with open(saved_training_info, 'wb') as f:\n",
    "        pickle.dump(loss_per_epoch, f)\n",
    "    print(\"epoch:\", epoch, \"loss:\",loss_per_epoch[-1][0], \"Time for mini batch:\", end_time - start_time,\\\n",
    "          \"time spend on model running:\",model_train_time,\\\n",
    "          \"memory used\",memory)"
   ]
  },
  {
   "cell_type": "code",
   "execution_count": 29,
   "metadata": {},
   "outputs": [],
   "source": [
    "new_ranking_weight =model.Ranking[1].conv1.weight.clone()\n",
    "new_net_weight =model.L3[2].weight[:3,:3,0].clone()"
   ]
  },
  {
   "cell_type": "code",
   "execution_count": 31,
   "metadata": {},
   "outputs": [
    {
     "name": "stdout",
     "output_type": "stream",
     "text": [
      "tensor(0., device='cuda:0', grad_fn=<SumBackward0>)\n",
      "tensor(2.8341, device='cuda:0', grad_fn=<SumBackward0>)\n"
     ]
    }
   ],
   "source": [
    "print((old_ranking_weight-new_ranking_weight).abs().sum())\n",
    "print((new_net_weight-old_net_weight).abs().sum())"
   ]
  },
  {
   "cell_type": "code",
   "execution_count": 9,
   "metadata": {},
   "outputs": [
    {
     "name": "stdout",
     "output_type": "stream",
     "text": [
      "loaded prev info, epochs run: 691\n"
     ]
    }
   ],
   "source": [
    "import pickle\n",
    "saved_training_info = './training_info/train_info_IOU_trnsfm_disc_scale05_nms.pkl'\n",
    "try:\n",
    "    with open(saved_training_info, 'rb') as f:\n",
    "        loss_per_epoch = pickle.load(f)\n",
    "    print(\"loaded prev info, epochs run:\", len(loss_per_epoch))\n",
    "#     loss_per_epoch.tolist()\n",
    "except:\n",
    "    loss_per_epoch = []"
   ]
  },
  {
   "cell_type": "code",
   "execution_count": 7,
   "metadata": {},
   "outputs": [
    {
     "data": {
      "image/png": "[encoded data removed]",
      "text/plain": [
       "<Figure size 1080x288 with 3 Axes>"
      ]
     },
     "metadata": {
      "needs_background": "light"
     },
     "output_type": "display_data"
    }
   ],
   "source": [
    "loss_per_epoch = np.array(loss_per_epoch)\n",
    "plt.figure(figsize=(15,4))\n",
    "plt.subplot(1,3,1)\n",
    "plt.title(\"Total loss\")\n",
    "plt.plot(loss_per_epoch[:,0])\n",
    "plt.subplot(1,3,2)\n",
    "plt.title(\"Classification loss\")\n",
    "plt.plot(loss_per_epoch[:,1])\n",
    "plt.subplot(1,3,3)\n",
    "plt.title(\"Correlation loss\")\n",
    "plt.plot(loss_per_epoch[:,2])\n",
    "plt.show()"
   ]
  },
  {
   "cell_type": "code",
   "execution_count": 8,
   "metadata": {},
   "outputs": [
    {
     "data": {
      "image/png": "[encoded data removed]",
      "text/plain": [
       "<Figure size 1080x288 with 3 Axes>"
      ]
     },
     "metadata": {
      "needs_background": "light"
     },
     "output_type": "display_data"
    }
   ],
   "source": [
    "\n",
    "loss_per_epoch = np.array(loss_per_epoch)\n",
    "plt.figure(figsize=(15,4))\n",
    "plt.subplot(1,3,1)\n",
    "plt.title(\"Total loss\")\n",
    "plt.plot(loss_per_epoch[:,0])\n",
    "plt.subplot(1,3,2)\n",
    "plt.title(\"Classification loss\")\n",
    "plt.plot(loss_per_epoch[:,1])\n",
    "plt.subplot(1,3,3)\n",
    "plt.title(\"Correlation loss\")\n",
    "plt.plot(loss_per_epoch[:,2])\n",
    "plt.show()"
   ]
  },
  {
   "cell_type": "code",
   "execution_count": 7,
   "metadata": {},
   "outputs": [
    {
     "name": "stdout",
     "output_type": "stream",
     "text": [
      "loading files from:  ../datasets/DAVIS/ImageSets/2017/train.txt\n"
     ]
    }
   ],
   "source": [
    "\n",
    "img_dataset = Custom_DAVIS2017_dataset(root=root, img_shape=img_shape, img_mode=img_mode,loader_type='train')"
   ]
  },
  {
   "cell_type": "code",
   "execution_count": 8,
   "metadata": {},
   "outputs": [
    {
     "data": {
      "text/plain": [
       "'boxing-fisheye'"
      ]
     },
     "execution_count": 8,
     "metadata": {},
     "output_type": "execute_result"
    }
   ],
   "source": [
    "img_dataset.names[3]"
   ]
  },
  {
   "cell_type": "code",
   "execution_count": 9,
   "metadata": {},
   "outputs": [
    {
     "name": "stdout",
     "output_type": "stream",
     "text": [
      "Single-object mode\n",
      "Change to multi-object mode\n",
      "=> Loaded checkpoint '../models/RANet_video_multi.pth'\n",
      "model2 ready\n"
     ]
    }
   ],
   "source": [
    "model2 = Net(pretrained=False, type=opt.net_type)\n",
    "inSize1 = 480\n",
    "inSize2 = 864\n",
    "\n",
    "model2.set_type('multi_object')\n",
    "#RANet_multi_IOU_loss_train_encoder_finetuned_epoch1\n",
    "#RANet_multi_IOU_loss_train_not_encoder_epoch1.pth\n",
    "#RANet_video_multi\n",
    "#RANet_video_multi_BCE_epoch1.pth\n",
    "checkpoint_load(opt.workfolder + 'RANet_video_multi.pth', model2)\n",
    "scale_factor2 = 0\n",
    "model2.cuda()\n",
    "model2.eval()\n",
    "print(\"model2 ready\")"
   ]
  },
  {
   "cell_type": "code",
   "execution_count": 10,
   "metadata": {},
   "outputs": [
    {
     "name": "stdout",
     "output_type": "stream",
     "text": [
      "=> Loaded checkpoint '../models/RANet_video_multi_BCE_epoch3.pth'\n",
      "model ready\n"
     ]
    }
   ],
   "source": [
    "\n",
    "checkpoint_load(opt.workfolder + 'RANet_video_multi_BCE_epoch3.pth', model)\n",
    "scale_factor1 = 0.5\n",
    "model.cuda()\n",
    "model.eval()\n",
    "print(\"model ready\")"
   ]
  },
  {
   "cell_type": "code",
   "execution_count": 34,
   "metadata": {},
   "outputs": [
    {
     "name": "stdout",
     "output_type": "stream",
     "text": [
      "selected video: 3 name: boxing-fisheye objects: 4.0\n",
      "Custom retrained_loss: 0.2567, original_loss: 0.1644\n",
      "Normal retrained_loss: 0.0202, original_loss: 0.0247\n",
      "Jaccard retrained_loss: 0.2972, original_loss: 0.3681\n",
      "selected video: 3 name: boxing-fisheye objects: 4.0\n",
      "Custom retrained_loss: 0.3009, original_loss: 0.1995\n",
      "Normal retrained_loss: 0.0217, original_loss: 0.0277\n",
      "Jaccard retrained_loss: 0.3633, original_loss: 0.4079\n",
      "selected video: 3 name: boxing-fisheye objects: 4.0\n",
      "Custom retrained_loss: 0.3124, original_loss: 0.2147\n",
      "Normal retrained_loss: 0.0214, original_loss: 0.0343\n",
      "Jaccard retrained_loss: 0.3786, original_loss: 0.4931\n",
      "selected video: 3 name: boxing-fisheye objects: 4.0\n",
      "Custom retrained_loss: 0.2333, original_loss: 0.2284\n",
      "Normal retrained_loss: 0.0175, original_loss: 0.0261\n",
      "Jaccard retrained_loss: 0.3241, original_loss: 0.4056\n",
      "selected video: 3 name: boxing-fisheye objects: 4.0\n",
      "Custom retrained_loss: 0.2736, original_loss: 0.1795\n",
      "Normal retrained_loss: 0.0178, original_loss: 0.0274\n",
      "Jaccard retrained_loss: 0.3328, original_loss: 0.4198\n",
      "selected video: 3 name: boxing-fisheye objects: 4.0\n",
      "Custom retrained_loss: 0.3742, original_loss: 0.2702\n",
      "Normal retrained_loss: 0.0253, original_loss: 0.0349\n",
      "Jaccard retrained_loss: 0.3830, original_loss: 0.4599\n",
      "selected video: 3 name: boxing-fisheye objects: 4.0\n",
      "Custom retrained_loss: 0.3596, original_loss: 0.2367\n",
      "Normal retrained_loss: 0.0263, original_loss: 0.0373\n",
      "Jaccard retrained_loss: 0.4402, original_loss: 0.5380\n",
      "selected video: 3 name: boxing-fisheye objects: 4.0\n",
      "Custom retrained_loss: 0.4675, original_loss: 0.3204\n",
      "Normal retrained_loss: 0.0408, original_loss: 0.0580\n",
      "Jaccard retrained_loss: 0.5090, original_loss: 0.6116\n",
      "selected video: 3 name: boxing-fisheye objects: 4.0\n",
      "Custom retrained_loss: 0.3873, original_loss: 0.2845\n",
      "Normal retrained_loss: 0.0281, original_loss: 0.0428\n",
      "Jaccard retrained_loss: 0.4348, original_loss: 0.5267\n",
      "selected video: 3 name: boxing-fisheye objects: 4.0\n",
      "Custom retrained_loss: 0.4363, original_loss: 0.3427\n",
      "Normal retrained_loss: 0.0241, original_loss: 0.0308\n",
      "Jaccard retrained_loss: 0.4124, original_loss: 0.4961\n",
      "selected video: 3 name: boxing-fisheye objects: 4.0\n",
      "Custom retrained_loss: 0.4543, original_loss: 0.3098\n",
      "Normal retrained_loss: 0.0279, original_loss: 0.0370\n",
      "Jaccard retrained_loss: 0.4477, original_loss: 0.5266\n",
      "selected video: 3 name: boxing-fisheye objects: 4.0\n",
      "Custom retrained_loss: 0.3015, original_loss: 0.2102\n",
      "Normal retrained_loss: 0.0188, original_loss: 0.0273\n",
      "Jaccard retrained_loss: 0.3557, original_loss: 0.4610\n",
      "selected video: 3 name: boxing-fisheye objects: 4.0\n",
      "Custom retrained_loss: 0.2632, original_loss: 0.1711\n",
      "Normal retrained_loss: 0.0169, original_loss: 0.0226\n",
      "Jaccard retrained_loss: 0.3387, original_loss: 0.4129\n",
      "selected video: 3 name: boxing-fisheye objects: 4.0\n",
      "Custom retrained_loss: 0.3140, original_loss: 0.1722\n",
      "Normal retrained_loss: 0.0193, original_loss: 0.0222\n",
      "Jaccard retrained_loss: 0.3263, original_loss: 0.3827\n",
      "selected video: 3 name: boxing-fisheye objects: 4.0\n",
      "Custom retrained_loss: 0.3087, original_loss: 0.1953\n",
      "Normal retrained_loss: 0.0246, original_loss: 0.0271\n",
      "Jaccard retrained_loss: 0.4316, original_loss: 0.4522\n",
      "selected video: 3 name: boxing-fisheye objects: 4.0\n",
      "Custom retrained_loss: 0.3647, original_loss: 0.2265\n",
      "Normal retrained_loss: 0.0218, original_loss: 0.0256\n",
      "Jaccard retrained_loss: 0.4378, original_loss: 0.4551\n",
      "selected video: 3 name: boxing-fisheye objects: 4.0\n",
      "Custom retrained_loss: 0.3192, original_loss: 0.1955\n",
      "Normal retrained_loss: 0.0178, original_loss: 0.0217\n",
      "Jaccard retrained_loss: 0.3809, original_loss: 0.4425\n",
      "selected video: 3 name: boxing-fisheye objects: 4.0\n",
      "Custom retrained_loss: 0.2805, original_loss: 0.1442\n",
      "Normal retrained_loss: 0.0173, original_loss: 0.0237\n",
      "Jaccard retrained_loss: 0.3711, original_loss: 0.4361\n",
      "selected video: 3 name: boxing-fisheye objects: 4.0\n",
      "Custom retrained_loss: 0.6810, original_loss: 0.4626\n",
      "Normal retrained_loss: 0.0269, original_loss: 0.0283\n",
      "Jaccard retrained_loss: 0.4960, original_loss: 0.5411\n",
      "selected video: 3 name: boxing-fisheye objects: 4.0\n",
      "Custom retrained_loss: 0.6549, original_loss: 0.4326\n",
      "Normal retrained_loss: 0.0241, original_loss: 0.0265\n",
      "Jaccard retrained_loss: 0.4650, original_loss: 0.5521\n",
      "selected video: 3 name: boxing-fisheye objects: 4.0\n",
      "Custom retrained_loss: 0.8637, original_loss: 0.5594\n",
      "Normal retrained_loss: 0.0333, original_loss: 0.0401\n",
      "Jaccard retrained_loss: 0.5843, original_loss: 0.6972\n",
      "selected video: 3 name: boxing-fisheye objects: 4.0\n",
      "Custom retrained_loss: 0.9003, original_loss: 0.7057\n",
      "Normal retrained_loss: 0.0251, original_loss: 0.0477\n",
      "Jaccard retrained_loss: 0.7044, original_loss: 0.8611\n",
      "selected video: 3 name: boxing-fisheye objects: 4.0\n",
      "Custom retrained_loss: 0.9470, original_loss: 0.7613\n",
      "Normal retrained_loss: 0.0285, original_loss: 0.0425\n",
      "Jaccard retrained_loss: 0.9279, original_loss: 1.0509\n",
      "selected video: 3 name: boxing-fisheye objects: 4.0\n",
      "Custom retrained_loss: 0.7450, original_loss: 0.4636\n",
      "Normal retrained_loss: 0.0243, original_loss: 0.0272\n",
      "Jaccard retrained_loss: 0.8521, original_loss: 0.9194\n",
      "selected video: 3 name: boxing-fisheye objects: 4.0\n",
      "Custom retrained_loss: 0.4897, original_loss: 0.3148\n",
      "Normal retrained_loss: 0.0176, original_loss: 0.0236\n",
      "Jaccard retrained_loss: 0.6459, original_loss: 0.7174\n",
      "selected video: 3 name: boxing-fisheye objects: 4.0\n",
      "Custom retrained_loss: 0.5625, original_loss: 0.3342\n",
      "Normal retrained_loss: 0.0208, original_loss: 0.0289\n",
      "Jaccard retrained_loss: 0.6756, original_loss: 0.7475\n",
      "selected video: 3 name: boxing-fisheye objects: 4.0\n",
      "Custom retrained_loss: 0.5126, original_loss: 0.3057\n",
      "Normal retrained_loss: 0.0177, original_loss: 0.0252\n",
      "Jaccard retrained_loss: 0.6376, original_loss: 0.6960\n",
      "selected video: 3 name: boxing-fisheye objects: 4.0\n",
      "Custom retrained_loss: 0.7704, original_loss: 0.5639\n",
      "Normal retrained_loss: 0.0212, original_loss: 0.0284\n",
      "Jaccard retrained_loss: 0.6075, original_loss: 0.6430\n",
      "selected video: 3 name: boxing-fisheye objects: 4.0\n",
      "Custom retrained_loss: 0.4671, original_loss: 0.2764\n",
      "Normal retrained_loss: 0.0168, original_loss: 0.0267\n",
      "Jaccard retrained_loss: 0.5333, original_loss: 0.6190\n",
      "selected video: 3 name: boxing-fisheye objects: 4.0\n",
      "Custom retrained_loss: 0.5521, original_loss: 0.3238\n",
      "Normal retrained_loss: 0.0207, original_loss: 0.0297\n",
      "Jaccard retrained_loss: 0.5318, original_loss: 0.6225\n",
      "selected video: 3 name: boxing-fisheye objects: 4.0\n",
      "Custom retrained_loss: 0.4193, original_loss: 0.2747\n",
      "Normal retrained_loss: 0.0180, original_loss: 0.0254\n",
      "Jaccard retrained_loss: 0.4697, original_loss: 0.5829\n",
      "selected video: 3 name: boxing-fisheye objects: 4.0\n",
      "Custom retrained_loss: 0.3892, original_loss: 0.2141\n",
      "Normal retrained_loss: 0.0190, original_loss: 0.0271\n",
      "Jaccard retrained_loss: 0.4962, original_loss: 0.6073\n",
      "selected video: 3 name: boxing-fisheye objects: 4.0\n",
      "Custom retrained_loss: 0.3416, original_loss: 0.2414\n",
      "Normal retrained_loss: 0.0184, original_loss: 0.0259\n",
      "Jaccard retrained_loss: 0.4664, original_loss: 0.5874\n",
      "selected video: 3 name: boxing-fisheye objects: 4.0\n",
      "Custom retrained_loss: 0.4038, original_loss: 0.2406\n",
      "Normal retrained_loss: 0.0194, original_loss: 0.0291\n",
      "Jaccard retrained_loss: 0.4869, original_loss: 0.5945\n",
      "selected video: 3 name: boxing-fisheye objects: 4.0\n",
      "Custom retrained_loss: 0.5089, original_loss: 0.3008\n",
      "Normal retrained_loss: 0.0174, original_loss: 0.0214\n",
      "Jaccard retrained_loss: 0.4442, original_loss: 0.5139\n",
      "selected video: 3 name: boxing-fisheye objects: 4.0\n",
      "Custom retrained_loss: 0.4356, original_loss: 0.2527\n",
      "Normal retrained_loss: 0.0206, original_loss: 0.0276\n",
      "Jaccard retrained_loss: 0.5323, original_loss: 0.6479\n",
      "selected video: 3 name: boxing-fisheye objects: 4.0\n",
      "Custom retrained_loss: 0.4960, original_loss: 0.2709\n",
      "Normal retrained_loss: 0.0198, original_loss: 0.0277\n",
      "Jaccard retrained_loss: 0.5193, original_loss: 0.6138\n",
      "selected video: 3 name: boxing-fisheye objects: 4.0\n",
      "Custom retrained_loss: 0.5282, original_loss: 0.3025\n",
      "Normal retrained_loss: 0.0224, original_loss: 0.0312\n",
      "Jaccard retrained_loss: 0.5213, original_loss: 0.6344\n",
      "selected video: 3 name: boxing-fisheye objects: 4.0\n",
      "Custom retrained_loss: 0.4024, original_loss: 0.2220\n",
      "Normal retrained_loss: 0.0188, original_loss: 0.0253\n",
      "Jaccard retrained_loss: 0.4612, original_loss: 0.5902\n"
     ]
    },
    {
     "name": "stdout",
     "output_type": "stream",
     "text": [
      "selected video: 3 name: boxing-fisheye objects: 4.0\n",
      "Custom retrained_loss: 0.3115, original_loss: 0.1813\n",
      "Normal retrained_loss: 0.0183, original_loss: 0.0270\n",
      "Jaccard retrained_loss: 0.4796, original_loss: 0.6257\n",
      "selected video: 3 name: boxing-fisheye objects: 4.0\n",
      "Custom retrained_loss: 0.3266, original_loss: 0.1791\n",
      "Normal retrained_loss: 0.0164, original_loss: 0.0267\n",
      "Jaccard retrained_loss: 0.4785, original_loss: 0.6344\n",
      "selected video: 3 name: boxing-fisheye objects: 4.0\n",
      "Custom retrained_loss: 0.3248, original_loss: 0.2162\n",
      "Normal retrained_loss: 0.0205, original_loss: 0.0305\n",
      "Jaccard retrained_loss: 0.5597, original_loss: 0.6631\n",
      "selected video: 3 name: boxing-fisheye objects: 4.0\n",
      "Custom retrained_loss: 0.3639, original_loss: 0.2155\n",
      "Normal retrained_loss: 0.0180, original_loss: 0.0257\n",
      "Jaccard retrained_loss: 0.5312, original_loss: 0.6283\n",
      "selected video: 3 name: boxing-fisheye objects: 4.0\n",
      "Custom retrained_loss: 0.4068, original_loss: 0.2399\n",
      "Normal retrained_loss: 0.0172, original_loss: 0.0217\n",
      "Jaccard retrained_loss: 0.4785, original_loss: 0.5301\n",
      "selected video: 3 name: boxing-fisheye objects: 4.0\n",
      "Custom retrained_loss: 0.3642, original_loss: 0.2250\n",
      "Normal retrained_loss: 0.0158, original_loss: 0.0213\n",
      "Jaccard retrained_loss: 0.4502, original_loss: 0.5090\n",
      "selected video: 3 name: boxing-fisheye objects: 4.0\n",
      "Custom retrained_loss: 0.3765, original_loss: 0.2062\n",
      "Normal retrained_loss: 0.0171, original_loss: 0.0242\n",
      "Jaccard retrained_loss: 0.4523, original_loss: 0.5714\n",
      "selected video: 3 name: boxing-fisheye objects: 4.0\n",
      "Custom retrained_loss: 0.4158, original_loss: 0.2046\n",
      "Normal retrained_loss: 0.0168, original_loss: 0.0219\n",
      "Jaccard retrained_loss: 0.4862, original_loss: 0.5620\n",
      "selected video: 3 name: boxing-fisheye objects: 4.0\n",
      "Custom retrained_loss: 0.4786, original_loss: 0.2882\n",
      "Normal retrained_loss: 0.0212, original_loss: 0.0274\n",
      "Jaccard retrained_loss: 0.5395, original_loss: 0.6163\n",
      "selected video: 3 name: boxing-fisheye objects: 4.0\n",
      "Custom retrained_loss: 0.4373, original_loss: 0.2438\n",
      "Normal retrained_loss: 0.0172, original_loss: 0.0236\n",
      "Jaccard retrained_loss: 0.5574, original_loss: 0.6648\n",
      "selected video: 3 name: boxing-fisheye objects: 4.0\n",
      "Custom retrained_loss: 0.7972, original_loss: 0.5654\n",
      "Normal retrained_loss: 0.0243, original_loss: 0.0382\n",
      "Jaccard retrained_loss: 0.6876, original_loss: 0.8553\n",
      "selected video: 3 name: boxing-fisheye objects: 4.0\n",
      "Custom retrained_loss: 0.5660, original_loss: 0.4578\n",
      "Normal retrained_loss: 0.0205, original_loss: 0.0319\n",
      "Jaccard retrained_loss: 0.6593, original_loss: 0.8075\n",
      "selected video: 3 name: boxing-fisheye objects: 4.0\n",
      "Custom retrained_loss: 0.5509, original_loss: 0.5416\n",
      "Normal retrained_loss: 0.0214, original_loss: 0.0354\n",
      "Jaccard retrained_loss: 0.6887, original_loss: 0.8951\n",
      "selected video: 3 name: boxing-fisheye objects: 4.0\n",
      "Custom retrained_loss: 0.4352, original_loss: 0.2786\n",
      "Normal retrained_loss: 0.0156, original_loss: 0.0211\n",
      "Jaccard retrained_loss: 0.5586, original_loss: 0.6562\n",
      "selected video: 3 name: boxing-fisheye objects: 4.0\n",
      "Custom retrained_loss: 0.3485, original_loss: 0.1980\n",
      "Normal retrained_loss: 0.0158, original_loss: 0.0223\n",
      "Jaccard retrained_loss: 0.4451, original_loss: 0.5723\n",
      "selected video: 3 name: boxing-fisheye objects: 4.0\n",
      "Custom retrained_loss: 0.3038, original_loss: 0.2022\n",
      "Normal retrained_loss: 0.0123, original_loss: 0.0162\n",
      "Jaccard retrained_loss: 0.3746, original_loss: 0.4631\n",
      "selected video: 3 name: boxing-fisheye objects: 4.0\n",
      "Custom retrained_loss: 0.3326, original_loss: 0.2425\n",
      "Normal retrained_loss: 0.0125, original_loss: 0.0156\n",
      "Jaccard retrained_loss: 0.3530, original_loss: 0.4366\n",
      "selected video: 3 name: boxing-fisheye objects: 4.0\n",
      "Custom retrained_loss: 0.4465, original_loss: 0.3390\n",
      "Normal retrained_loss: 0.0143, original_loss: 0.0166\n",
      "Jaccard retrained_loss: 0.3308, original_loss: 0.3933\n",
      "selected video: 3 name: boxing-fisheye objects: 4.0\n",
      "Custom retrained_loss: 0.5867, original_loss: 0.4283\n",
      "Normal retrained_loss: 0.0261, original_loss: 0.0294\n",
      "Jaccard retrained_loss: 0.4361, original_loss: 0.4950\n",
      "selected video: 3 name: boxing-fisheye objects: 4.0\n",
      "Custom retrained_loss: 0.4475, original_loss: 0.2488\n",
      "Normal retrained_loss: 0.0183, original_loss: 0.0214\n",
      "Jaccard retrained_loss: 0.4771, original_loss: 0.5404\n",
      "selected video: 3 name: boxing-fisheye objects: 4.0\n",
      "Custom retrained_loss: 0.4337, original_loss: 0.2797\n",
      "Normal retrained_loss: 0.0186, original_loss: 0.0251\n",
      "Jaccard retrained_loss: 0.5065, original_loss: 0.6154\n"
     ]
    }
   ],
   "source": [
    "# img_dataset.video_counter = 28\n",
    "# name = img_loader.names[28]\n",
    "# img_loader.img_counter[name]\n",
    "\n",
    "index = int(np.random.random()*60)%len(img_dataset.names)\n",
    "index = 3\n",
    "for i in range(60):\n",
    "    template,template_mask, target,target_mask = img_dataset.__getitem__(index)\n",
    "    template = template.cuda().unsqueeze(0)\n",
    "    template_mask = template_mask.cuda().unsqueeze(0)\n",
    "    target = target.cuda().unsqueeze(0)\n",
    "    target_mask = target_mask.cuda().unsqueeze(0)\n",
    "    print(\"selected video:\", index, \"name:\",img_dataset.names[index], \"objects:\", template_mask.max().item() )\n",
    "\n",
    "    start_time_model = time.perf_counter()\n",
    "    with torch.no_grad():\n",
    "        Out, corr_loss_batch = model.RANet_Multiple_forward_train(template=template,target=target,\\\n",
    "                                        template_msk=template_mask, target_msk = target_mask, scale_factor=scale_factor1)\n",
    "        Out2, corr_loss_batch = model2.RANet_Multiple_forward_train(template=template,target=target,\\\n",
    "                                        template_msk=template_mask, target_msk = target_mask, scale_factor=scale_factor2)\n",
    "\n",
    "\n",
    "\n",
    "    loss1, loss2 =0,0\n",
    "    for j in range(len(Out[0][0])):\n",
    "        loss1 += custom_BCELoss_with_logits(Out[0][0,j].reshape(1,-1),\\\n",
    "                                   target_mask[0,0:1].eq(j+2).reshape(1,-1).float()).item()\n",
    "        loss2 += custom_BCELoss_with_logits(Out2[0][0,j].reshape(1,-1),\\\n",
    "                                   target_mask[0,0:1].eq(j+2).reshape(1,-1).float()).item()\n",
    "    print(\"Custom retrained_loss: %.4f, original_loss: %.4f\"%(loss1,loss2))\n",
    "\n",
    "    loss1, loss2 =0,0\n",
    "    for j in range(len(Out[0][0])):\n",
    "        loss1 += normal_BCELoss_with_logits(Out[0][0,j].reshape(1,-1),\\\n",
    "                                   target_mask[0,0:1].eq(j+2).reshape(1,-1).float()).item()\n",
    "        loss2 += normal_BCELoss_with_logits(Out2[0][0,j].reshape(1,-1),\\\n",
    "                                   target_mask[0,0:1].eq(j+2).reshape(1,-1).float()).item()\n",
    "    print(\"Normal retrained_loss: %.4f, original_loss: %.4f\"%(loss1,loss2))\n",
    "\n",
    "    loss1, loss2 =0,0\n",
    "    for j in range(len(Out[0][0])):\n",
    "        loss1 += normal_jaccard_loss_with_logits(Out[0][0,j].reshape(1,-1),\\\n",
    "                                   target_mask[0,0:1].eq(j+2).reshape(1,-1).float()).item()\n",
    "        loss2 += normal_jaccard_loss_with_logits(Out2[0][0,j].reshape(1,-1),\\\n",
    "                                   target_mask[0,0:1].eq(j+2).reshape(1,-1).float()).item()\n",
    "    print(\"Jaccard retrained_loss: %.4f, original_loss: %.4f\"%(loss1,loss2))\n",
    "    if (loss2 < loss1):\n",
    "        break\n",
    "\n",
    "i = -1"
   ]
  },
  {
   "cell_type": "code",
   "execution_count": 16,
   "metadata": {},
   "outputs": [
    {
     "data": {
      "text/plain": [
       "tensor(4., device='cuda:0')"
      ]
     },
     "execution_count": 16,
     "metadata": {},
     "output_type": "execute_result"
    }
   ],
   "source": [
    "target_mask[0,0:1].max()"
   ]
  },
  {
   "cell_type": "code",
   "execution_count": 17,
   "metadata": {},
   "outputs": [
    {
     "data": {
      "text/plain": [
       "3"
      ]
     },
     "execution_count": 17,
     "metadata": {},
     "output_type": "execute_result"
    }
   ],
   "source": [
    "len(Out[0][0])"
   ]
  },
  {
   "cell_type": "code",
   "execution_count": 31,
   "metadata": {},
   "outputs": [
    {
     "name": "stdout",
     "output_type": "stream",
     "text": [
      "Custom retrained_loss: 0.2234, original_loss: 0.1208\n",
      "Normal retrained_loss: 0.0163, original_loss: 0.0215\n",
      "Jaccard retrained_loss: 0.2657, original_loss: 0.3047\n"
     ]
    },
    {
     "data": {
      "image/png": "[encoded data removed]",
      "text/plain": [
       "<Figure size 1080x720 with 3 Axes>"
      ]
     },
     "metadata": {
      "needs_background": "light"
     },
     "output_type": "display_data"
    }
   ],
   "source": [
    "i = (i+1)%(len(Out[0][0]))\n",
    "# i=7\n",
    "plt.figure(figsize=(15,10))\n",
    "plt.subplot(1,3,1)\n",
    "plt.title(\"target mask\")\n",
    "plt.imshow(target_mask[0,0].detach().cpu().numpy()==(i+2))\n",
    "plt.subplot(1,3,2)\n",
    "plt.imshow(torch.sigmoid(Out[0][0,i]).detach().cpu().ge(0.5).numpy())\n",
    "plt.title(\"Retrained model\")\n",
    "plt.subplot(1,3,3)\n",
    "plt.imshow(torch.sigmoid(Out2[0][0,i]).detach().cpu().ge(0.5).numpy())\n",
    "plt.title(\"Original model\")"
   ]
  },
  {
   "cell_type": "code",
   "execution_count": 23,
   "metadata": {},
   "outputs": [
    {
     "data": {
      "text/plain": [
       "tensor(0.0791, device='cuda:0')"
      ]
     },
     "execution_count": 23,
     "metadata": {},
     "output_type": "execute_result"
    }
   ],
   "source": [
    "normal_jaccard_loss_with_logits(Out[0][0,j].reshape(1,-1),\\\n",
    "                               target_mask[0,0:1].eq(j+2).reshape(1,-1).float())"
   ]
  },
  {
   "cell_type": "markdown",
   "metadata": {},
   "source": [
    "This is to check how the correlation difference is helping"
   ]
  },
  {
   "cell_type": "code",
   "execution_count": 16,
   "metadata": {},
   "outputs": [],
   "source": [
    "img_loader.video_counter = 0\n",
    "template,template_mask, target,target_mask = img_dataset.__getitem__(4)\n",
    "template = template.cuda()\n",
    "template_mask = template_mask.cuda()\n",
    "target = target.cuda()\n",
    "target_mask = target_mask.cuda()\n",
    "\n",
    "self=model\n",
    "template=template.unsqueeze(0)\n",
    "target=target.unsqueeze(0)\n",
    "template_msk=template_mask.unsqueeze(0)\n",
    "target_msk=target_mask.unsqueeze(0)\n",
    "f=F\n",
    "scale_factor = 0"
   ]
  },
  {
   "cell_type": "code",
   "execution_count": 17,
   "metadata": {},
   "outputs": [],
   "source": [
    "def get_images(self, template, target, template_msk, target_msk):\n",
    "    with torch.no_grad():\n",
    "        base_features2 = self.res_forward(template)\n",
    "        Kernel_3 = f.normalize(f.max_pool2d(self.L3(base_features2[2]), 2))\n",
    "        Kernel_4 = f.normalize(self.L4(base_features2[3]))\n",
    "        Kernel_5 = f.normalize(f.interpolate(self.L5(base_features2[4]), scale_factor=2, mode='bilinear',align_corners=True))\n",
    "        Kernel_tmp = f.normalize(self.L_g(torch.cat([Kernel_3, Kernel_4, Kernel_5], dim=1)))\n",
    "        Kernel = Kernel_tmp\n",
    "\n",
    "        # Current frame feature\n",
    "        base_features1 = self.res_forward(target)\n",
    "        Feature_3 = f.normalize(f.max_pool2d(self.L3(base_features1[2]), 2))\n",
    "        Feature_4 = f.normalize(self.L4(base_features1[3]))\n",
    "        Feature_5 = f.normalize(f.interpolate(self.L5(base_features1[4]), scale_factor=2, mode='bilinear',align_corners=True))\n",
    "        Feature = f.normalize(self.L_g(torch.cat([Feature_3, Feature_4, Feature_5], dim=1)))\n",
    "\n",
    "        Out_Rs = []\n",
    "\n",
    "        basef1 = torch.cat([self.ls13(base_features1[2]),\n",
    "                            self.ls14(base_features1[3]),\n",
    "                            self.ls15(base_features1[4]), ], 1)\n",
    "        basef2 = torch.cat([self.ls22(base_features1[1]),\n",
    "                            self.ls23(base_features1[2]),\n",
    "                            self.ls24(base_features1[3]), ], 1)\n",
    "        basef3 = torch.cat([self.ls31(base_features1[0]),\n",
    "                            self.ls32(base_features1[1]),\n",
    "                            self.ls33(base_features1[2])], 1)\n",
    "        loss_per_batch = []\n",
    "        for idx in range(len(Feature)):  # batch\n",
    "            ker = Kernel_tmp[idx: idx + 1]\n",
    "            feature = Feature[idx: idx + 1]\n",
    "            m2 = template_msk[idx: idx + 1]\n",
    "            m1 = target_msk[idx: idx + 1]\n",
    "\n",
    "            max_obj = m2.max().int().data.cpu().numpy()\n",
    "            if max_obj < 2:\n",
    "                m2[0, 0, 0, 0] = 2\n",
    "                max_obj = m2.max().int().data.cpu().numpy()\n",
    "            M2s = self.P2masks(f.relu(m2 - 1), max_obj - 1)\n",
    "            M2_all = m2.ge(1.5).float()\n",
    "            M1s = self.P2masks(f.relu(m1 - 1), max_obj - 1)\n",
    "            M1_all = m1.ge(1.5).float()\n",
    "\n",
    "            # Correlation\n",
    "            W0, H0 = ker.size()[-2::]\n",
    "            W,H = feature.size()[-2::]\n",
    "            Corr_subs = []\n",
    "            ker_R = self.to_kernel(ker)\n",
    "            corr_R = self.correlate(ker_R, feature)\n",
    "\n",
    "            template_self_corr = self.correlate(ker_R, ker)\n",
    "            target_self_corr = self.correlate(self.to_kernel(feature), feature)\n",
    "\n",
    "            # Ranking attention scores\n",
    "            T_corr =  f.max_pool2d(corr_R,2).view(-1, W0*H0, W*H//4).transpose(1, 2).view(-1, W*H//4, W0, H0)\n",
    "            R_map = f.relu(self.Ranking(T_corr)) * 0.2\n",
    "            Rmaps = []\n",
    "\n",
    "\n",
    "            for idy in range(max_obj):  # make corrs (backgrounds(=1) and objs)\n",
    "                m2_rep = f.adaptive_avg_pool2d(M2s[idy], ker.size()[-2::])\n",
    "                corr_sub = m2_rep.view(m2_rep.size()[0], -1, 1, 1) * corr_R\n",
    "                Corr_subs.append(corr_sub)\n",
    "                Rmaps.append((R_map * m2_rep).view(-1, 1, W0*H0))\n",
    "\n",
    "            Outs = []\n",
    "            loss_per_obj = []\n",
    "            for idy in range(1, max_obj):  # training:with_bg, testing: w/o BG\n",
    "                corr = Corr_subs[idy]\n",
    "                co_size = Corr_subs[idy].size()[2::]\n",
    "                max_only, indices = f.max_pool2d(corr, co_size, return_indices=True)\n",
    "                max_only = max_only.view(-1, 1, W0*H0) + Rmaps[idy]\n",
    "\n",
    "                #### For FG, adjust scores based on how close a pixel is to rest of the FG pixes and far away from BG pixels\n",
    "                # Self correlation is of size: batch_size x W*H x W x H\n",
    "                # We want the final score to be a score on each pixel and thus of dimension: batch_size x W*H x 1 x 1\n",
    "                # Notation meaning: FG_BG: For WxH map with FG pixels, the channels have non zerovalue where \n",
    "                #                   channel id corresponds to BG != 0\n",
    "                m2_rep = f.adaptive_avg_pool2d(M2s[idy], ker.size()[-2::])\n",
    "\n",
    "                ############# Loss for adjusting feature extractor\n",
    "                loss_obj_dict = {}\n",
    "                loss_obj_dict['template_FB_FB_loss'] = 0\n",
    "                loss_obj_dict['template_FB_BG_loss'] = 0\n",
    "                loss_obj_dict['target_FB_FB_loss'] = 0\n",
    "                loss_obj_dict['target_FB_BG_loss'] = 0\n",
    "                loss_obj_dict['tt_FB_FB_loss'] = 0\n",
    "                loss_obj_dict['tt_FB_BG_loss'] = 0\n",
    "                ######### For each FG pixel, find closest 5 pixels in FG and sum them up. That is the -ve loss for FG-FG\n",
    "                num_pixels= 5\n",
    "                ############################## Just template frame\n",
    "                m2_rep_pos = m2_rep.ge(0.5).float()\n",
    "                m2_rep_neg = m2_rep.le(0).float()\n",
    "                if (self.fp16):\n",
    "                    m2_rep_pos = m2_rep_pos.half()\n",
    "                    m2_rep_neg = m2_rep_pos.half()\n",
    "                indices = torch.nonzero(m2_rep_pos.reshape(-1))\n",
    "                if (len(indices)>0):\n",
    "                    temp_corr = torch.cat([template_self_corr[:,index,:] for index in indices], dim=1)\n",
    "                    FB_FB_loss = (temp_corr*m2_rep_pos).reshape(1,-1,W0*H0)\n",
    "                    FB_FB_loss, _ = FB_FB_loss.sort(descending=True, dim=2)\n",
    "                    FB_FB_loss = FB_FB_loss[:,:,:num_pixels]\n",
    "\n",
    "                    FB_BG_loss = (temp_corr*m2_rep_neg).reshape(1,-1,W0*H0)\n",
    "                    FB_BG_loss, _ = FB_BG_loss.sort(descending=True, dim=2)\n",
    "                    FB_BG_loss = FB_BG_loss[:,:,:num_pixels]\n",
    "\n",
    "                    FB_FB_loss = FB_FB_loss.sum()/(len(indices)*num_pixels)\n",
    "                    FB_BG_loss = FB_BG_loss.sum()/(len(indices)*num_pixels)\n",
    "                    del _\n",
    "                else:\n",
    "                    FB_FB_loss = 0\n",
    "                    FB_BG_loss = 0\n",
    "\n",
    "                loss_obj_dict['template_FB_FB_loss'] = -FB_FB_loss\n",
    "                loss_obj_dict['template_FB_BG_loss'] = FB_BG_loss\n",
    "\n",
    "                del indices\n",
    "\n",
    "                ############################## Just target frame\n",
    "                m1_rep = f.adaptive_avg_pool2d(M1s[idy], ker.size()[-2::])\n",
    "                m1_rep_pos = m1_rep.ge(0.5).float()\n",
    "                m1_rep_neg = m1_rep.le(0).float()\n",
    "                if (self.fp16):\n",
    "                    m1_rep_pos = m1_rep_pos.half()\n",
    "                    m1_rep_neg = m1_rep_pos.half()\n",
    "                indices = torch.nonzero(m1_rep_pos.reshape(-1))\n",
    "                if (len(indices)>0):\n",
    "                    temp_corr = torch.cat([target_self_corr[:,index,:] for index in indices], dim=1)\n",
    "                    FB_FB_loss = (temp_corr*m1_rep_pos).reshape(1,-1,W*H)\n",
    "                    FB_FB_loss, _ = FB_FB_loss.sort(descending=True, dim=2)\n",
    "                    FB_FB_loss = FB_FB_loss[:,:,:num_pixels]\n",
    "\n",
    "                    FB_BG_loss = (temp_corr*m1_rep_neg).reshape(1,-1,W*H)\n",
    "                    FB_BG_loss, _ = FB_BG_loss.sort(descending=True, dim=2)\n",
    "                    FB_BG_loss = FB_BG_loss[:,:,:num_pixels]\n",
    "\n",
    "                    FB_FB_loss = FB_FB_loss.sum()/(len(indices)*num_pixels)\n",
    "                    FB_BG_loss = FB_BG_loss.sum()/(len(indices)*num_pixels)\n",
    "                    del _\n",
    "                else :\n",
    "                    FB_FB_loss = 0\n",
    "                    FB_BG_loss = 0\n",
    "\n",
    "                loss_obj_dict['target_FB_FB_loss'] = -FB_FB_loss\n",
    "                loss_obj_dict['target_FB_BG_loss'] = FB_BG_loss\n",
    "                del indices\n",
    "\n",
    "                ############################## Between template and target\n",
    "                ######### Skip this if there are too many objects\n",
    "                if (max_obj < 5):\n",
    "                    #### Between FG of template and FG of target\n",
    "                    # corr_R is of shape: batch_size x W0*H0 x W x H\n",
    "\n",
    "                    # We want FG of both to be close and FG-BG of both to be far\n",
    "                    FB_FB_loss = (corr_R*m1_rep_pos).reshape(-1,W0*H0,W*H)\n",
    "                    indices1 = torch.nonzero(m1_rep_pos.reshape(-1))\n",
    "                    indices2 = torch.nonzero(m2_rep_pos.reshape(-1))\n",
    "                    corr_R_transpose = corr_R.view(-1, W0*H0, W*H).transpose(1, 2).view(-1, W*H, W0, H0)\n",
    "\n",
    "                    if (len(indices1)>0):\n",
    "                        FB_FB_loss1, _ = FB_FB_loss.squeeze().transpose(0,1).sort(descending=True, dim=1)\n",
    "                        FB_FB_loss1 = torch.cat([FB_FB_loss1[index,:num_pixels] for index in indices1], dim=0)\n",
    "                        FB_FB_loss1 = FB_FB_loss1.sum()/(len(indices1)*num_pixels)\n",
    "\n",
    "                        FB_BG_loss1 = (corr_R_transpose*m1_rep_neg).reshape(-1,W*H,W0*H0)\n",
    "                        FB_BG_loss1, _ = FB_BG_loss1.squeeze().sort(descending=True, dim=1)\n",
    "                        FB_BG_loss1 = torch.cat([FB_BG_loss1[index,:num_pixels] for index in indices1], dim=0)\n",
    "                        FB_BG_loss1 = FB_BG_loss1.sum()/(len(indices1)*num_pixels)\n",
    "                        del _\n",
    "                    else:\n",
    "                        FB_FB_loss1 = 0\n",
    "                        FB_BG_loss1 = 0\n",
    "\n",
    "                    if (len(indices2)>0):\n",
    "                        FB_FB_loss2, _ = FB_FB_loss.squeeze().sort(descending=True, dim=1)\n",
    "                        FB_FB_loss2 = torch.cat([FB_FB_loss2[index,:num_pixels] for index in indices2], dim=0)\n",
    "                        FB_FB_loss2 = FB_FB_loss2.sum()/(len(indices2)*num_pixels)\n",
    "\n",
    "                        FB_BG_loss2 = (corr_R*m2_rep_neg).reshape(-1,W0*H0,W*H)\n",
    "                        FB_BG_loss2, _ = FB_BG_loss2.squeeze().sort(descending=True, dim=1)\n",
    "                        FB_BG_loss2 = torch.cat([FB_BG_loss2[index,:num_pixels] for index in indices2], dim=0)\n",
    "                        FB_BG_loss2 = FB_BG_loss2.sum()/(len(indices2)*num_pixels)\n",
    "                        del _\n",
    "                    else:\n",
    "                        FB_FB_loss2 = 0\n",
    "                        FB_BG_loss2 = 0\n",
    "\n",
    "                    loss_obj_dict['tt_FB_FB_loss'] = -(FB_FB_loss1 + FB_FB_loss2)/2\n",
    "                    loss_obj_dict['tt_FB_BG_loss'] = (FB_BG_loss1 + FB_BG_loss2)/2\n",
    "                    del indices1,indices2\n",
    "\n",
    "                loss_per_obj.append(loss_obj_dict)\n",
    "\n",
    "                # Score addition for machting to FG a lot and penalty for matching to BG\n",
    "                # We are computing FG discriminant score\n",
    "                # For each pixel in WxH, we can take max or average across non zero channels\n",
    "\n",
    "                num_pixels = 5\n",
    "    #                 print(\"template_self_corr shape:\",template_self_corr.shape,\"m2 rep shape:\", m2_rep.shape)\n",
    "                temp_corr = template_self_corr * m2_rep.view(1,W0*H0,1,1)\n",
    "                FG_disc_score = (temp_corr*m2_rep).reshape(1,-1,W0*H0)\n",
    "                FG_disc_score, _ = FG_disc_score.sort(descending=True, dim=2)\n",
    "                FG_disc_score = FG_disc_score[:,:,:num_pixels]\n",
    "                FG_disc_score = FG_disc_score.sum(dim=2)/(num_pixels)\n",
    "\n",
    "                FG_neg_score = (temp_corr*(1-m2_rep)).reshape(1,-1,W0*H0)\n",
    "                FG_neg_score, _ = FG_neg_score.sort(descending=True, dim=2)\n",
    "                FG_neg_score = FG_neg_score[:,:,:num_pixels]\n",
    "                FG_neg_score = FG_neg_score.sum(dim=2)/(num_pixels)\n",
    "                FG_disc_score -= FG_neg_score*0\n",
    "                del _\n",
    "\n",
    "                max_only = max_only + FG_disc_score.view(-1,1,W0*H0)*scale_factor\n",
    "                #########  Addition by VJ done #################\n",
    "\n",
    "                # Rank & select FG\n",
    "                m_sorted, m_sorted_idx = max_only.sort(descending=True, dim=2)\n",
    "                corr = torch.cat([co.index_select(0, m_sort[0, 0:256]).unsqueeze(0) for co, m_sort in zip(corr, m_sorted_idx)])\n",
    "                # Merge net FG\n",
    "                corr_fores = self.p_2(self.res_1(self.p_1(f.interpolate(corr, scale_factor=2, mode='bilinear',align_corners=True))))\n",
    "                if max_obj == 1:  # only bg\n",
    "                    print('missing obj')\n",
    "                    corr_backs = torch.zeros(corr_fores.size()).cuda()\n",
    "                else:\n",
    "                    '''\n",
    "                    backs_idx = Corr_subs[0:idy] + Corr_subs[idy + 1::]\n",
    "                    corr_b = torch.cat(backs_idx, 1)\n",
    "                    R_map_b = Rmaps[0:idy] + Rmaps[idy + 1::]\n",
    "                    R_map_b = torch.cat(R_map_b, 2)\n",
    "                    '''\n",
    "                    m2_rep = f.adaptive_avg_pool2d(M2s[idy], ker.size()[-2::])\n",
    "                    corr_b = (1-m2_rep.view(m2_rep.size()[0], -1, 1, 1) )* corr_R\n",
    "                    R_map_b = (R_map * (1-m2_rep)).view(-1, 1, W0*H0)\n",
    "                    ########## Above added by VJ ###########\n",
    "\n",
    "                    max_only_b, indices = f.max_pool2d(corr_b, co_size, return_indices=True)\n",
    "                    max_only_b = max_only_b.view(R_map_b.size()[0], 1, -1) + R_map_b\n",
    "\n",
    "                    ########################################### VJ\n",
    "                    num_pixels = 5\n",
    "                    temp_corr = template_self_corr * (1-m2_rep.view(1,W0*H0,1,1))\n",
    "                    BG_disc_score = (temp_corr*(1-m2_rep)).reshape(1,-1,W0*H0)\n",
    "                    BG_disc_score, _ = BG_disc_score.sort(descending=True, dim=2)\n",
    "                    BG_disc_score = BG_disc_score[:,:,:num_pixels]\n",
    "                    BG_disc_score = BG_disc_score.sum(dim=2)/(num_pixels)\n",
    "\n",
    "                    BG_neg_score = (temp_corr*m2_rep).reshape(1,-1,W0*H0)\n",
    "                    BG_neg_score, _ = BG_neg_score.sort(descending=True, dim=2)\n",
    "                    BG_neg_score = BG_neg_score[:,:,:num_pixels]\n",
    "                    BG_neg_score = BG_neg_score.sum(dim=2)/(num_pixels)\n",
    "                    BG_disc_score -= BG_neg_score*0\n",
    "                    del _\n",
    "\n",
    "                    max_only_b = max_only_b + BG_disc_score*scale_factor\n",
    "                    ############################################ VJ\n",
    "\n",
    "                    # Rank & select BG\n",
    "                    m_sorted, m_sorted_idx = max_only_b.sort(descending=True, dim=2)\n",
    "                    corr_b = torch.cat([co.index_select(0, m_sort[0, 0:256]).unsqueeze(0) for co, m_sort in zip(corr_b, m_sorted_idx)])\n",
    "                    # Merge net BG\n",
    "                    corr_backs = self.p_2(self.res_1(self.p_1(f.interpolate(corr_b, scale_factor=2, mode='bilinear',align_corners=True))))\n",
    "                if idy == 0:\n",
    "                    tmp = corr_fores\n",
    "                    corr_fores = corr_backs\n",
    "                    corr_backs = tmp\n",
    "                    m_2 = f.adaptive_avg_pool2d(M2_all, corr_fores.size()[-2::])\n",
    "                else:\n",
    "                    m_2 = f.adaptive_avg_pool2d(M2s[idy], corr_fores.size()[-2::])\n",
    "                # low level features\n",
    "                base1 = torch.cat([basef1[idx: idx + 1], corr_fores, corr_backs, m_2], 1)\n",
    "                fea1 = self.R1(base1)\n",
    "                base2 = torch.cat([basef2[idx: idx + 1],\n",
    "                                   fea1], 1)\n",
    "                fea2 = self.R2(base2)\n",
    "                base3 = torch.cat([basef3[idx: idx + 1],\n",
    "                                   fea2], 1)\n",
    "                fea3 = self.R3(base3)\n",
    "    #                 out = torch.sigmoid(fea3)\n",
    "                out = fea3\n",
    "    return out.clone().detach().cpu(), max_only.clone().detach().cpu(), FG_disc_score.clone().detach().cpu(),\\\n",
    "            FG_neg_score.clone().detach().cpu(), max_only_b.clone().detach().cpu(),\\\n",
    "            BG_disc_score.clone().detach().cpu(),BG_neg_score.clone().detach().cpu(),loss_obj_dict"
   ]
  },
  {
   "cell_type": "code",
   "execution_count": 18,
   "metadata": {},
   "outputs": [
    {
     "name": "stdout",
     "output_type": "stream",
     "text": [
      "=> Loaded checkpoint '../models/RANet_multi_IOU_loss_train_epoch1.pth'\n",
      "Single-object mode\n",
      "Change to multi-object mode\n",
      "=> Loaded checkpoint '../models/RANet_encoder_retrain_epoch1.pth'\n"
     ]
    }
   ],
   "source": [
    "\n",
    "checkpoint_load(opt.workfolder + 'RANet_multi_IOU_loss_train_epoch1.pth', model)\n",
    "\n",
    "\n",
    "out, max_only, FG_disc_score, FG_neg_score ,max_only_b,BG_disc_score, BG_neg_score,loss_obj_dict = \\\n",
    "        get_images(model, template, target, template_msk, target_msk)\n",
    "\n",
    "model2 = Net(pretrained=False, type=opt.net_type)\n",
    "inSize1 = 480\n",
    "inSize2 = 864\n",
    "\n",
    "model2.set_type('multi_object')\n",
    "# params='RANet_video_multi.pth'\n",
    "# params='RANet_encoder_retrain_epoch1.pth'\n",
    "# # params='RANet_multi_basic_train_epoch1.pth', RANet_multi_IOU_loss_train_epoch1\n",
    "checkpoint_load(opt.workfolder + 'RANet_encoder_retrain_epoch1.pth', model2)\n",
    "model_cuda2 = model2.cuda()\n",
    "\n",
    "out2, max_only2, FG_disc_score2, FG_neg_score2 ,max_only_b2, BG_disc_score2, BG_neg_score2, loss_obj_dict2 = \\\n",
    "        get_images(model2, template, target, template_msk, target_msk)\n",
    "\n",
    "W0,H0 = 30,54\n",
    "W,H = 30,54"
   ]
  },
  {
   "cell_type": "code",
   "execution_count": 21,
   "metadata": {},
   "outputs": [
    {
     "data": {
      "text/plain": [
       "Text(0.5, 1.0, 'Background2 neg score')"
      ]
     },
     "execution_count": 21,
     "metadata": {},
     "output_type": "execute_result"
    },
    {
     "data": {
      "image/png": "[encoded data removed]",
      "text/plain": [
       "<Figure size 1080x720 with 3 Axes>"
      ]
     },
     "metadata": {
      "needs_background": "light"
     },
     "output_type": "display_data"
    },
    {
     "data": {
      "image/png": "[encoded data removed]",
      "text/plain": [
       "<Figure size 1080x720 with 6 Axes>"
      ]
     },
     "metadata": {
      "needs_background": "light"
     },
     "output_type": "display_data"
    },
    {
     "data": {
      "image/png": "[encoded data removed]",
      "text/plain": [
       "<Figure size 1080x720 with 6 Axes>"
      ]
     },
     "metadata": {
      "needs_background": "light"
     },
     "output_type": "display_data"
    }
   ],
   "source": [
    "\n",
    "\n",
    "plt.figure(figsize=(15,10))\n",
    "plt.subplot(1,3,1)\n",
    "plt.imshow(target_mask[0].detach().cpu().numpy()/target_mask.max().item(),vmin=0, vmax=1)\n",
    "plt.title(\"Target mask\")\n",
    "plt.subplot(1,3,2)\n",
    "plt.imshow(torch.sigmoid(out[0,0]).ge(0.5).numpy(),vmin=0, vmax=1)\n",
    "plt.title(\"Prediction mask\")\n",
    "plt.subplot(1,3,3)\n",
    "plt.imshow(torch.sigmoid(out2[0,0]).ge(0.5).numpy(),vmin=0, vmax=1)\n",
    "plt.title(\"Prediction mask2\")\n",
    "\n",
    "############### Foreground ###################\n",
    "plt.figure(figsize=(15,10))\n",
    "plt.subplot(2,3,1)\n",
    "plt.imshow(max_only.reshape(W0,H0).detach().cpu().numpy(),vmin=0, vmax=1)\n",
    "plt.title(\"Ranking map Foreground\")\n",
    "plt.subplot(2,3,2)\n",
    "plt.imshow(FG_disc_score.reshape(W0,H0).detach().cpu().numpy(),vmin=0, vmax=1)\n",
    "plt.title(\"Foreground Disc score\")\n",
    "plt.subplot(2,3,3)\n",
    "plt.imshow(FG_neg_score.reshape(W0,H0).detach().cpu().numpy(),vmin=0, vmax=1)\n",
    "plt.title(\"Foreground neg score\")\n",
    "\n",
    "plt.subplot(2,3,4)\n",
    "plt.imshow(max_only2.reshape(W0,H0).numpy(),vmin=0, vmax=1)\n",
    "plt.title(\"Ranking map Foreground2\")\n",
    "plt.subplot(2,3,5)\n",
    "plt.imshow(FG_disc_score2.reshape(W0,H0).numpy(),vmin=0, vmax=1)\n",
    "plt.title(\"Foreground2 Disc score\")\n",
    "plt.subplot(2,3,6)\n",
    "plt.imshow(FG_neg_score2.reshape(W0,H0).numpy(),vmin=0, vmax=1)\n",
    "plt.title(\"Foreground2 neg score\")\n",
    "\n",
    "############## Background ##############\n",
    "\n",
    "plt.figure(figsize=(15,10))\n",
    "plt.subplot(2,3,1)\n",
    "plt.imshow(max_only_b.reshape(W0,H0).detach().cpu().numpy(),vmin=0, vmax=1)\n",
    "plt.title(\"Ranking map Background\")\n",
    "plt.subplot(2,3,2)\n",
    "plt.imshow(BG_disc_score.reshape(W0,H0).detach().cpu().numpy(),vmin=0, vmax=1)\n",
    "plt.title(\"Background Disc score\")\n",
    "plt.subplot(2,3,3)\n",
    "plt.imshow(BG_neg_score.reshape(W0,H0).detach().cpu().numpy(),vmin=0, vmax=1)\n",
    "plt.title(\"Background neg score\")\n",
    "\n",
    "plt.subplot(2,3,4)\n",
    "plt.imshow(max_only_b2.reshape(W0,H0).numpy(),vmin=0, vmax=1)\n",
    "plt.title(\"Ranking map Background2\")\n",
    "plt.subplot(2,3,5)\n",
    "plt.imshow(BG_disc_score2.reshape(W0,H0).numpy(),vmin=0, vmax=1)\n",
    "plt.title(\"Background2 Disc score\")\n",
    "plt.subplot(2,3,6)\n",
    "plt.imshow(BG_neg_score2.reshape(W0,H0).numpy(),vmin=0, vmax=1)\n",
    "plt.title(\"Background2 neg score\")"
   ]
  },
  {
   "cell_type": "markdown",
   "metadata": {},
   "source": [
    "Define a RANET val tester function which returns loss on a validation dataset. It uses first frame, first frame mask and prev predicted frame as input and finds the loss"
   ]
  },
  {
   "cell_type": "code",
   "execution_count": null,
   "metadata": {},
   "outputs": [],
   "source": []
  }
 ],
 "metadata": {
  "kernelspec": {
   "display_name": "Python 3",
   "language": "python",
   "name": "python3"
  },
  "language_info": {
   "codemirror_mode": {
    "name": "ipython",
    "version": 3
   },
   "file_extension": ".py",
   "mimetype": "text/x-python",
   "name": "python",
   "nbconvert_exporter": "python",
   "pygments_lexer": "ipython3",
   "version": "3.7.5"
  }
 },
 "nbformat": 4,
 "nbformat_minor": 2
}
