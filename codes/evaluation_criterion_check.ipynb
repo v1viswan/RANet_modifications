{
 "cells": [
  {
   "cell_type": "code",
   "execution_count": 1,
   "metadata": {},
   "outputs": [],
   "source": [
    "import argparse\n",
    "from math import log10\n",
    "import torch\n",
    "import torch.nn as nn\n",
    "import torch.nn.functional as F\n",
    "import torch.optim as optim\n",
    "from torch.autograd import Variable\n",
    "from torch.utils.data import DataLoader\n",
    "import torch.cuda as cuda\n",
    "\n",
    "import time\n",
    "import numpy as np\n",
    "import os\n",
    "from RANet_lib import *\n",
    "from RANet_lib.RANet_lib import *\n",
    "from RANet_model import RANet as Net\n",
    "import os\n",
    "import os.path as osp\n",
    "from glob import glob\n",
    "\n",
    "import matplotlib.pyplot as plt\n",
    "from torchvision import transforms\n",
    "import PIL.Image as Image\n",
    "\n",
    "from vj_davis_17_loader import Custom_DAVIS2017_dataset, Custom_DAVIS2017_testing_dataset\n",
    "from torch.utils.data import DataLoader\n",
    "from vj_loss_functions import *"
   ]
  },
  {
   "cell_type": "code",
   "execution_count": 99,
   "metadata": {},
   "outputs": [],
   "source": [
    "def Dtype(data):\n",
    "    return torch._C._TensorBase.float(data)\n",
    "def P2masks(self, P, num):\n",
    "    M = []\n",
    "    M.append(self.Dtype((P == 0) + (P > int(num))))\n",
    "    for idx in range(1, num + 1):\n",
    "        M.append(self.Dtype(P == idx))\n",
    "    return M\n",
    "def get_single_masks(template_msk, target_msk):\n",
    "    for idx in range(len(template_msk)):\n",
    "        max_obj = template_msk[idx,0].max().int().data.cpu().numpy()\n",
    "        target_msk_images = P2masks(F.relu(target_msk[idx,0] - 1), max_obj - 1)\n",
    "        for i in range(max_obj-1):\n",
    "            prediction_single_masks.append(Out[idx][0,i].reshape(-1))\n",
    "            target_single_masks.append(target_msk_images[i+1].reshape(-1))\n",
    "    return \n",
    "def msks2P(msk, objs_ids = None, threshold=0.5):\n",
    "    '''\n",
    "    Msks is expected to be of dimension num_objects x W x H\n",
    "    '''\n",
    "    \n",
    "    if objs_ids is not None and len(msk) != len(objs_ids):\n",
    "        print('error, len(msks) != len(objs_ids)')\n",
    "    return msk.max(dim=0)[0].ge(threshold).long()*(msk.argmax(dim=0)+1)\n",
    "\n",
    "def P2msks(Img, objs_ids):\n",
    "    img = np.array(Img)\n",
    "    Imgs = []\n",
    "    for idx in objs_ids:\n",
    "        Imgs.append(Image.fromarray((img == idx) * 255.0).convert('L'))\n",
    "    return Imgs\n",
    "\n",
    "def msks2P(msks, objs_ids):\n",
    "    # if max_num == 1:\n",
    "    #     return msks[0]\n",
    "    if len(msks) != len(objs_ids):\n",
    "        print('error, len(msks) != len(objs_ids)')\n",
    "    P = torch.zeros(msks[0].size())\n",
    "    for idx, msk in enumerate(msks):\n",
    "        ids = torch.nonzero(msk)\n",
    "        if len(ids) > 0:\n",
    "            P[ids[:, 0], ids[:, 1], ids[:, 2]] = idx + 1\n",
    "    return P"
   ]
  },
  {
   "cell_type": "code",
   "execution_count": 122,
   "metadata": {},
   "outputs": [],
   "source": [
    "def get_iou(ip, t):\n",
    "    # expects batch_size x Wx H binary value images\n",
    "    batch_size = len(ip)\n",
    "    ip = ip.view(batch_size,-1)\n",
    "    t = t.view(batch_size, -1)\n",
    "    intersection = (ip*t).sum(dim=1)\n",
    "    union = ip.sum(dim=1) + t.sum(dim=1) - intersection\n",
    "    return intersection/union\n",
    "\n",
    "def iou_score(predictions, targets, min_objs = 1, names=None):\n",
    "    # Both should be lists with dimensions in batch_size x count_images x W x H\n",
    "    \n",
    "    loss = torch.zeros(1).to(targets[0].device)\n",
    "    for batch, (pred, tar) in enumerate(zip(predictions, targets),1):\n",
    "        if (pred.max() != tar.max()):\n",
    "            print(\"mis matched number of objects! num in pred: {}. num in target: {}\"\\\n",
    "                  .format(list(set(np.asarray(pred[0]).reshape(-1))), list(set(np.asarray(tar[0]).reshape(-1))) ) )\n",
    "            \n",
    "        objs_ids = list(set(np.asarray(pred[0]).reshape(-1)))\n",
    "        print(\"batch:\", batch, \"object ids:\", objs_ids)\n",
    "        max_objs = len(objs_ids)\n",
    "        img_loss = torch.zeros(1).to(tar[0].device)\n",
    "        for i in range(min_objs, max_objs):\n",
    "            iou = get_iou(pred.eq(objs_ids[i]).float(), tar.eq(objs_ids[i]).float()).mean()\n",
    "            if (names is not None):\n",
    "                print(\"object:\", names[batch-1] + '_' + str(i), \"iou:\", iou.item())\n",
    "            img_loss += iou\n",
    "        img_loss = img_loss/(max_objs-min_objs)\n",
    "\n",
    "        loss += img_loss\n",
    "    return loss"
   ]
  },
  {
   "cell_type": "code",
   "execution_count": 117,
   "metadata": {},
   "outputs": [],
   "source": [
    "davis_img_folder = '../datasets/DAVIS/Annotations/480p/'\n",
    "results_folder = '../predictions/IOU_disc_scale_05_epoch0_re/'\n",
    "davis_img_folder2 = '../../davis2017-evaluation/results/semi-supervised/osvos/'"
   ]
  },
  {
   "cell_type": "code",
   "execution_count": 118,
   "metadata": {},
   "outputs": [],
   "source": [
    "trnsfm = transforms.ToTensor()\n",
    "resizer = PAD_transform((480,864), random=False)"
   ]
  },
  {
   "cell_type": "code",
   "execution_count": 126,
   "metadata": {},
   "outputs": [],
   "source": [
    "file_list =  sorted(os.listdir(davis_img_folder2))\n",
    "\n",
    "folder = file_list[0]\n",
    "images =  sorted(os.listdir(results_folder+folder))\n",
    "\n",
    "img_list1 = []\n",
    "img_list2 = []\n",
    "img_list3 = []\n",
    "img_list1_ = []\n",
    "img_list2_ = []\n",
    "for img in images:\n",
    "    img1 = Image.open(results_folder+folder + '/' + img)\n",
    "    img2 = Image.open(davis_img_folder+folder + '/' + img)\n",
    "    img3 = Image.open(davis_img_folder2+folder + '/' + img)\n",
    "    \n",
    "#     objs_ids = list(set(np.asarray(img1).reshape(-1)))\n",
    "#     P2msks(base_mask, objs_ids)\n",
    "    \n",
    "    img_list1.append(trnsfm(img1))\n",
    "    img_list2.append(trnsfm(img2))\n",
    "    img_list3.append(trnsfm(img3))\n",
    "    \n",
    "    objs_ids = list(set(np.asarray(img1).reshape(-1)))\n",
    "    img1_ = resizer(P2msks(img1, objs_ids), norm=[1, 0])\n",
    "    img1_ = msks2P(img1_, objs_ids)[0].unsqueeze(0)\n",
    "    \n",
    "    objs_ids = list(set(np.asarray(img2).reshape(-1)))\n",
    "    img2_ = resizer(P2msks(img2, objs_ids), norm=[1, 0])\n",
    "    img2_ = msks2P(img2_, objs_ids)[0].unsqueeze(0)\n",
    "    \n",
    "    img_list1_.append(img1_)\n",
    "    img_list2_.append(img2_)\n",
    "\n",
    "img_list1 = torch.cat(img_list1, dim=0)\n",
    "img_list2 = torch.cat(img_list2, dim=0)\n",
    "img_list3 = torch.cat(img_list3, dim=0)\n",
    "img_list1_ = torch.cat(img_list1_, dim=0)\n",
    "img_list2_ = torch.cat(img_list2_, dim=0)"
   ]
  },
  {
   "cell_type": "code",
   "execution_count": 127,
   "metadata": {},
   "outputs": [
    {
     "name": "stdout",
     "output_type": "stream",
     "text": [
      "batch: 1 object ids: [0.0, 0.007843138, 0.003921569]\n"
     ]
    },
    {
     "ename": "RuntimeError",
     "evalue": "The size of tensor a (414720) must match the size of tensor b (436800) at non-singleton dimension 1",
     "output_type": "error",
     "traceback": [
      "\u001b[0;31m---------------------------------------------------------------------------\u001b[0m",
      "\u001b[0;31mRuntimeError\u001b[0m                              Traceback (most recent call last)",
      "\u001b[0;32m<ipython-input-127-6921574061f0>\u001b[0m in \u001b[0;36m<module>\u001b[0;34m\u001b[0m\n\u001b[0;32m----> 1\u001b[0;31m \u001b[0miou\u001b[0m \u001b[0;34m=\u001b[0m \u001b[0miou_score\u001b[0m\u001b[0;34m(\u001b[0m\u001b[0;34m[\u001b[0m\u001b[0mimg_list1\u001b[0m\u001b[0;34m.\u001b[0m\u001b[0mfloat\u001b[0m\u001b[0;34m(\u001b[0m\u001b[0;34m)\u001b[0m\u001b[0;34m]\u001b[0m\u001b[0;34m,\u001b[0m \u001b[0;34m[\u001b[0m\u001b[0mimg_list2\u001b[0m\u001b[0;34m.\u001b[0m\u001b[0mfloat\u001b[0m\u001b[0;34m(\u001b[0m\u001b[0;34m)\u001b[0m\u001b[0;34m]\u001b[0m\u001b[0;34m,\u001b[0m \u001b[0mmin_objs\u001b[0m\u001b[0;34m=\u001b[0m\u001b[0;36m1\u001b[0m\u001b[0;34m,\u001b[0m \u001b[0mnames\u001b[0m\u001b[0;34m=\u001b[0m\u001b[0;34m[\u001b[0m\u001b[0mfolder\u001b[0m\u001b[0;34m]\u001b[0m \u001b[0;34m)\u001b[0m\u001b[0;34m\u001b[0m\u001b[0;34m\u001b[0m\u001b[0m\n\u001b[0m",
      "\u001b[0;32m<ipython-input-122-6502f701e9ad>\u001b[0m in \u001b[0;36miou_score\u001b[0;34m(predictions, targets, min_objs, names)\u001b[0m\n\u001b[1;32m     22\u001b[0m         \u001b[0mimg_loss\u001b[0m \u001b[0;34m=\u001b[0m \u001b[0mtorch\u001b[0m\u001b[0;34m.\u001b[0m\u001b[0mzeros\u001b[0m\u001b[0;34m(\u001b[0m\u001b[0;36m1\u001b[0m\u001b[0;34m)\u001b[0m\u001b[0;34m.\u001b[0m\u001b[0mto\u001b[0m\u001b[0;34m(\u001b[0m\u001b[0mtar\u001b[0m\u001b[0;34m[\u001b[0m\u001b[0;36m0\u001b[0m\u001b[0;34m]\u001b[0m\u001b[0;34m.\u001b[0m\u001b[0mdevice\u001b[0m\u001b[0;34m)\u001b[0m\u001b[0;34m\u001b[0m\u001b[0;34m\u001b[0m\u001b[0m\n\u001b[1;32m     23\u001b[0m         \u001b[0;32mfor\u001b[0m \u001b[0mi\u001b[0m \u001b[0;32min\u001b[0m \u001b[0mrange\u001b[0m\u001b[0;34m(\u001b[0m\u001b[0mmin_objs\u001b[0m\u001b[0;34m,\u001b[0m \u001b[0mmax_objs\u001b[0m\u001b[0;34m)\u001b[0m\u001b[0;34m:\u001b[0m\u001b[0;34m\u001b[0m\u001b[0;34m\u001b[0m\u001b[0m\n\u001b[0;32m---> 24\u001b[0;31m             \u001b[0miou\u001b[0m \u001b[0;34m=\u001b[0m \u001b[0mget_iou\u001b[0m\u001b[0;34m(\u001b[0m\u001b[0mpred\u001b[0m\u001b[0;34m.\u001b[0m\u001b[0meq\u001b[0m\u001b[0;34m(\u001b[0m\u001b[0mobjs_ids\u001b[0m\u001b[0;34m[\u001b[0m\u001b[0mi\u001b[0m\u001b[0;34m]\u001b[0m\u001b[0;34m)\u001b[0m\u001b[0;34m.\u001b[0m\u001b[0mfloat\u001b[0m\u001b[0;34m(\u001b[0m\u001b[0;34m)\u001b[0m\u001b[0;34m,\u001b[0m \u001b[0mtar\u001b[0m\u001b[0;34m.\u001b[0m\u001b[0meq\u001b[0m\u001b[0;34m(\u001b[0m\u001b[0mobjs_ids\u001b[0m\u001b[0;34m[\u001b[0m\u001b[0mi\u001b[0m\u001b[0;34m]\u001b[0m\u001b[0;34m)\u001b[0m\u001b[0;34m.\u001b[0m\u001b[0mfloat\u001b[0m\u001b[0;34m(\u001b[0m\u001b[0;34m)\u001b[0m\u001b[0;34m)\u001b[0m\u001b[0;34m.\u001b[0m\u001b[0mmean\u001b[0m\u001b[0;34m(\u001b[0m\u001b[0;34m)\u001b[0m\u001b[0;34m\u001b[0m\u001b[0;34m\u001b[0m\u001b[0m\n\u001b[0m\u001b[1;32m     25\u001b[0m             \u001b[0;32mif\u001b[0m \u001b[0;34m(\u001b[0m\u001b[0mnames\u001b[0m \u001b[0;32mis\u001b[0m \u001b[0;32mnot\u001b[0m \u001b[0;32mNone\u001b[0m\u001b[0;34m)\u001b[0m\u001b[0;34m:\u001b[0m\u001b[0;34m\u001b[0m\u001b[0;34m\u001b[0m\u001b[0m\n\u001b[1;32m     26\u001b[0m                 \u001b[0mprint\u001b[0m\u001b[0;34m(\u001b[0m\u001b[0;34m\"object:\"\u001b[0m\u001b[0;34m,\u001b[0m \u001b[0mnames\u001b[0m\u001b[0;34m[\u001b[0m\u001b[0mbatch\u001b[0m\u001b[0;34m-\u001b[0m\u001b[0;36m1\u001b[0m\u001b[0;34m]\u001b[0m \u001b[0;34m+\u001b[0m \u001b[0;34m'_'\u001b[0m \u001b[0;34m+\u001b[0m \u001b[0mstr\u001b[0m\u001b[0;34m(\u001b[0m\u001b[0mi\u001b[0m\u001b[0;34m)\u001b[0m\u001b[0;34m,\u001b[0m \u001b[0;34m\"iou:\"\u001b[0m\u001b[0;34m,\u001b[0m \u001b[0miou\u001b[0m\u001b[0;34m.\u001b[0m\u001b[0mitem\u001b[0m\u001b[0;34m(\u001b[0m\u001b[0;34m)\u001b[0m\u001b[0;34m)\u001b[0m\u001b[0;34m\u001b[0m\u001b[0;34m\u001b[0m\u001b[0m\n",
      "\u001b[0;32m<ipython-input-122-6502f701e9ad>\u001b[0m in \u001b[0;36mget_iou\u001b[0;34m(ip, t)\u001b[0m\n\u001b[1;32m      4\u001b[0m     \u001b[0mip\u001b[0m \u001b[0;34m=\u001b[0m \u001b[0mip\u001b[0m\u001b[0;34m.\u001b[0m\u001b[0mview\u001b[0m\u001b[0;34m(\u001b[0m\u001b[0mbatch_size\u001b[0m\u001b[0;34m,\u001b[0m\u001b[0;34m-\u001b[0m\u001b[0;36m1\u001b[0m\u001b[0;34m)\u001b[0m\u001b[0;34m\u001b[0m\u001b[0;34m\u001b[0m\u001b[0m\n\u001b[1;32m      5\u001b[0m     \u001b[0mt\u001b[0m \u001b[0;34m=\u001b[0m \u001b[0mt\u001b[0m\u001b[0;34m.\u001b[0m\u001b[0mview\u001b[0m\u001b[0;34m(\u001b[0m\u001b[0mbatch_size\u001b[0m\u001b[0;34m,\u001b[0m \u001b[0;34m-\u001b[0m\u001b[0;36m1\u001b[0m\u001b[0;34m)\u001b[0m\u001b[0;34m\u001b[0m\u001b[0;34m\u001b[0m\u001b[0m\n\u001b[0;32m----> 6\u001b[0;31m     \u001b[0mintersection\u001b[0m \u001b[0;34m=\u001b[0m \u001b[0;34m(\u001b[0m\u001b[0mip\u001b[0m\u001b[0;34m*\u001b[0m\u001b[0mt\u001b[0m\u001b[0;34m)\u001b[0m\u001b[0;34m.\u001b[0m\u001b[0msum\u001b[0m\u001b[0;34m(\u001b[0m\u001b[0mdim\u001b[0m\u001b[0;34m=\u001b[0m\u001b[0;36m1\u001b[0m\u001b[0;34m)\u001b[0m\u001b[0;34m\u001b[0m\u001b[0;34m\u001b[0m\u001b[0m\n\u001b[0m\u001b[1;32m      7\u001b[0m     \u001b[0munion\u001b[0m \u001b[0;34m=\u001b[0m \u001b[0mip\u001b[0m\u001b[0;34m.\u001b[0m\u001b[0msum\u001b[0m\u001b[0;34m(\u001b[0m\u001b[0mdim\u001b[0m\u001b[0;34m=\u001b[0m\u001b[0;36m1\u001b[0m\u001b[0;34m)\u001b[0m \u001b[0;34m+\u001b[0m \u001b[0mt\u001b[0m\u001b[0;34m.\u001b[0m\u001b[0msum\u001b[0m\u001b[0;34m(\u001b[0m\u001b[0mdim\u001b[0m\u001b[0;34m=\u001b[0m\u001b[0;36m1\u001b[0m\u001b[0;34m)\u001b[0m \u001b[0;34m-\u001b[0m \u001b[0mintersection\u001b[0m\u001b[0;34m\u001b[0m\u001b[0;34m\u001b[0m\u001b[0m\n\u001b[1;32m      8\u001b[0m     \u001b[0;32mreturn\u001b[0m \u001b[0mintersection\u001b[0m\u001b[0;34m/\u001b[0m\u001b[0munion\u001b[0m\u001b[0;34m\u001b[0m\u001b[0;34m\u001b[0m\u001b[0m\n",
      "\u001b[0;31mRuntimeError\u001b[0m: The size of tensor a (414720) must match the size of tensor b (436800) at non-singleton dimension 1"
     ]
    }
   ],
   "source": [
    "iou = iou_score([img_list1.float()], [img_list2.float()], min_objs=1, names=[folder] )"
   ]
  },
  {
   "cell_type": "code",
   "execution_count": 133,
   "metadata": {},
   "outputs": [
    {
     "name": "stdout",
     "output_type": "stream",
     "text": [
      "batch: 1 object ids: [1.0, 2.0, 3.0]\n",
      "object: bike-packing_1 iou: 0.6018927097320557\n",
      "object: bike-packing_2 iou: 0.7967311143875122\n"
     ]
    }
   ],
   "source": [
    "iou = iou_score([img_list1_.float()], [img_list2_.float()], min_objs=1, names=[folder] )"
   ]
  },
  {
   "cell_type": "code",
   "execution_count": 111,
   "metadata": {},
   "outputs": [
    {
     "name": "stdout",
     "output_type": "stream",
     "text": [
      "batch: 1 object ids: [0.0, 1.0, 2.0, 3.0]\n",
      "object: bike-packing_2 iou: 0.6062366366386414\n",
      "object: bike-packing_3 iou: 0.7918944358825684\n"
     ]
    }
   ],
   "source": [
    "iou = iou_score([img_list1_.float()], [img_list2_.float()], min_objs=2, names=[folder] )"
   ]
  },
  {
   "cell_type": "code",
   "execution_count": 113,
   "metadata": {},
   "outputs": [
    {
     "data": {
      "text/plain": [
       "torch.Size([69, 480, 864])"
      ]
     },
     "execution_count": 113,
     "metadata": {},
     "output_type": "execute_result"
    }
   ],
   "source": [
    "img_list1_.shape"
   ]
  },
  {
   "cell_type": "code",
   "execution_count": 124,
   "metadata": {},
   "outputs": [
    {
     "data": {
      "text/plain": [
       "<matplotlib.image.AxesImage at 0x7fd9349b6470>"
      ]
     },
     "execution_count": 124,
     "metadata": {},
     "output_type": "execute_result"
    },
    {
     "data": {
      "image/png": "[encoded data removed]",
      "text/plain": [
       "<Figure size 432x288 with 1 Axes>"
      ]
     },
     "metadata": {
      "needs_background": "light"
     },
     "output_type": "display_data"
    }
   ],
   "source": [
    "plt.imshow(img_list1_[-1].detach().numpy())"
   ]
  },
  {
   "cell_type": "code",
   "execution_count": 58,
   "metadata": {},
   "outputs": [
    {
     "data": {
      "text/plain": [
       "tensor(61.3336)"
      ]
     },
     "execution_count": 58,
     "metadata": {},
     "output_type": "execute_result"
    }
   ],
   "source": [
    "(img2-img3).abs().sum()"
   ]
  },
  {
   "cell_type": "code",
   "execution_count": 62,
   "metadata": {},
   "outputs": [
    {
     "data": {
      "text/plain": [
       "<matplotlib.image.AxesImage at 0x7fd95f650630>"
      ]
     },
     "execution_count": 62,
     "metadata": {},
     "output_type": "execute_result"
    },
    {
     "data": {
      "image/png": "[encoded data removed]",
      "text/plain": [
       "<Figure size 1080x576 with 2 Axes>"
      ]
     },
     "metadata": {
      "needs_background": "light"
     },
     "output_type": "display_data"
    }
   ],
   "source": [
    "plt.figure(figsize=(15,8))\n",
    "plt.subplot(1,2,1)\n",
    "plt.imshow(img2.detach().numpy()[0])\n",
    "plt.subplot(1,2,2)\n",
    "plt.imshow(img3.detach().numpy()[0])"
   ]
  },
  {
   "cell_type": "code",
   "execution_count": 65,
   "metadata": {},
   "outputs": [
    {
     "data": {
      "text/plain": [
       "32"
      ]
     },
     "execution_count": 65,
     "metadata": {},
     "output_type": "execute_result"
    }
   ],
   "source": [
    "len(os.listdir(results_folder))"
   ]
  },
  {
   "cell_type": "code",
   "execution_count": null,
   "metadata": {},
   "outputs": [],
   "source": []
  }
 ],
 "metadata": {
  "kernelspec": {
   "display_name": "Python 3",
   "language": "python",
   "name": "python3"
  },
  "language_info": {
   "codemirror_mode": {
    "name": "ipython",
    "version": 3
   },
   "file_extension": ".py",
   "mimetype": "text/x-python",
   "name": "python",
   "nbconvert_exporter": "python",
   "pygments_lexer": "ipython3",
   "version": "3.6.8"
  }
 },
 "nbformat": 4,
 "nbformat_minor": 2
}
